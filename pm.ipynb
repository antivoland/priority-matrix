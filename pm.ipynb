{
 "cells": [
  {
   "cell_type": "code",
   "id": "3717de7f-7d84-480b-852a-a262c50af2d4",
   "metadata": {
    "jupyter": {
     "is_executing": true
    }
   },
   "source": [
    "import matplotlib.pyplot as plt\n",
    "import numpy as np\n",
    "\n",
    "# different from yours, see below\n",
    "x = y = z = np.linspace(-2, 2, 41)\n",
    "X, Y, Z = np.meshgrid(x, y, z)\n",
    "values = 2*X*X - Y*Y + 1/(Z*Z+1)\n",
    "\n",
    "fig = plt.figure()\n",
    "ax = fig.add_subplot(111, projection='3d')\n",
    "scatter = ax.scatter(X, Y, Z, c=values, cmap='PRGn')\n",
    "fig.colorbar(scatter, ax=ax)\n",
    "\n",
    "plt.show()"
   ],
   "outputs": [],
   "execution_count": null
  },
  {
   "cell_type": "code",
   "execution_count": null,
   "id": "93b36612-4ce2-42ce-b916-caf4a15d05af",
   "metadata": {},
   "outputs": [],
   "source": []
  }
 ],
 "metadata": {
  "kernelspec": {
   "display_name": "Python 3 (ipykernel)",
   "language": "python",
   "name": "python3"
  },
  "language_info": {
   "codemirror_mode": {
    "name": "ipython",
    "version": 3
   },
   "file_extension": ".py",
   "mimetype": "text/x-python",
   "name": "python",
   "nbconvert_exporter": "python",
   "pygments_lexer": "ipython3",
   "version": "3.13.1"
  }
 },
 "nbformat": 4,
 "nbformat_minor": 5
}
